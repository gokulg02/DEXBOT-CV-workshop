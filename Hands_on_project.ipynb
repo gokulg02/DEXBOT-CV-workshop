{
 "cells": [
  {
   "cell_type": "code",
   "execution_count": null,
   "id": "56e88712",
   "metadata": {},
   "outputs": [],
   "source": [
    "import cv2\n",
    "import matplotlib.pyplot as plt\n",
    "import numpy as np"
   ]
  },
  {
   "cell_type": "markdown",
   "id": "66a96726",
   "metadata": {},
   "source": [
    "Playing video"
   ]
  },
  {
   "cell_type": "code",
   "execution_count": null,
   "id": "c6c56868",
   "metadata": {},
   "outputs": [],
   "source": [
    "cap = cv2.VideoCapture(r\"data/vid.mp4\")\n",
    "while(cap.isOpened()):\n",
    "    ret, frame = cap.read()\n",
    "    if ret == True:\n",
    "        cv2.imshow('Frame',frame)\n",
    "        cv2.waitKey(10)\n",
    "    else:\n",
    "        break\n",
    "cv2.destroyAllWindows()\n",
    "cap.release()"
   ]
  },
  {
   "cell_type": "markdown",
   "id": "41be5150",
   "metadata": {},
   "source": [
    "Converting video into frames"
   ]
  },
  {
   "cell_type": "code",
   "execution_count": null,
   "id": "6b80a9c6",
   "metadata": {},
   "outputs": [],
   "source": [
    "currentframe = 0\n",
    "cap = cv2.VideoCapture(r\"data/vid.mp4\") \n",
    "while(True):\n",
    "    ret,frame = cap.read()\n",
    "    if ret:\n",
    "        name = \n",
    "        #Save images\n",
    "        \n",
    "        currentframe += 1\n",
    "    else:\n",
    "        break\n",
    "cap.release()"
   ]
  },
  {
   "cell_type": "markdown",
   "id": "61e8b350",
   "metadata": {},
   "source": [
    "Finding edge points"
   ]
  },
  {
   "cell_type": "code",
   "execution_count": null,
   "id": "72b29e6c",
   "metadata": {},
   "outputs": [],
   "source": [
    "f= cv2.imread(r'data/vid_img/frame55.jpg')\n",
    "image = cv2.circle(f, ___ , radius=0, color=(0, 0, 255), thickness=10) #A\n",
    "image = cv2.circle(f, ___ , radius=0, color=(0, 255, 0), thickness=10) #B\n",
    "image = cv2.circle(f, ___ , radius=0, color=(255, 0, 0), thickness=10) #C\n",
    "image = cv2.circle(f, ___ , radius=0, color=(0, 100, 100), thickness=10) #D\n",
    "plt.imshow(image)"
   ]
  },
  {
   "cell_type": "markdown",
   "id": "1c56b978",
   "metadata": {},
   "source": [
    "Applying perspective transform"
   ]
  },
  {
   "cell_type": "code",
   "execution_count": null,
   "id": "ca4e0aa6",
   "metadata": {},
   "outputs": [],
   "source": [
    "def prespective_transform(img):\n",
    "    source = \n",
    "    destination = \n",
    "    transformMatrix = \n",
    "    transformedImg = \n",
    "    return transformedImg"
   ]
  },
  {
   "cell_type": "code",
   "execution_count": null,
   "id": "83bbb5a9",
   "metadata": {},
   "outputs": [],
   "source": [
    "f= cv2.imread(r'data/vid_img/frame42.jpg')\n",
    "pt_img = prespective_transform(f)\n",
    "plt.imshow(pt_img[:,:,::-1])"
   ]
  },
  {
   "cell_type": "markdown",
   "id": "2a64677c",
   "metadata": {},
   "source": [
    "Converting to HSV colorspace"
   ]
  },
  {
   "cell_type": "code",
   "execution_count": null,
   "id": "58d66da3",
   "metadata": {},
   "outputs": [],
   "source": [
    "def conv_hsv(img):\n",
    "    \n",
    "    return img"
   ]
  },
  {
   "cell_type": "code",
   "execution_count": null,
   "id": "75e3290a",
   "metadata": {},
   "outputs": [],
   "source": [
    "hsv_img = conv_hsv(pt_img)\n",
    "plt.imshow(hsv_img[:,:,0],cmap='gray')"
   ]
  },
  {
   "cell_type": "markdown",
   "id": "9648f364",
   "metadata": {},
   "source": [
    "Thresholding of 'h' component"
   ]
  },
  {
   "cell_type": "code",
   "execution_count": null,
   "id": "517416a9",
   "metadata": {},
   "outputs": [],
   "source": [
    "#Plot histogram for H component of hsv_img"
   ]
  },
  {
   "cell_type": "code",
   "execution_count": null,
   "id": "b91f7a19",
   "metadata": {},
   "outputs": [],
   "source": [
    "def thresh(img):\n",
    "    \n",
    "    return mask"
   ]
  },
  {
   "cell_type": "code",
   "execution_count": null,
   "id": "15f46e09",
   "metadata": {},
   "outputs": [],
   "source": [
    "mask = thresh(hsv_img)\n",
    "plt.imshow(mask,cmap='gray')"
   ]
  },
  {
   "cell_type": "markdown",
   "id": "5fb3dc5f",
   "metadata": {},
   "source": [
    "Find centre point of ball in mask"
   ]
  },
  {
   "cell_type": "code",
   "execution_count": null,
   "id": "c8c1230e",
   "metadata": {},
   "outputs": [],
   "source": [
    "def centre_pt(mask):\n",
    "    mask = mask *255\n",
    "    mask = np.uint8(mask)\n",
    "    ret, thresh = cv2.threshold(mask, 50, 255, cv2.THRESH_BINARY)\n",
    "    contours, hierarchy = \n",
    "    if contours == ():\n",
    "        return None, None\n",
    "    try:\n",
    "        \n",
    "    except:\n",
    "        return None, None\n",
    "    return cX,cY"
   ]
  },
  {
   "cell_type": "code",
   "execution_count": null,
   "id": "9cdd3451",
   "metadata": {},
   "outputs": [],
   "source": [
    "cX,cY = centre_pt(mask)\n",
    "centre_pt(mask)"
   ]
  },
  {
   "cell_type": "markdown",
   "id": "1bded85a",
   "metadata": {},
   "source": [
    "Find region of ball"
   ]
  },
  {
   "cell_type": "code",
   "execution_count": null,
   "id": "b8a3973d",
   "metadata": {},
   "outputs": [],
   "source": [
    "def find_region(cX,cY):\n",
    "    "
   ]
  },
  {
   "cell_type": "code",
   "execution_count": null,
   "id": "c6049395",
   "metadata": {},
   "outputs": [],
   "source": [
    "r = find_region(cX,cY)"
   ]
  },
  {
   "cell_type": "markdown",
   "id": "efdbeee4",
   "metadata": {},
   "source": [
    "Marking on image"
   ]
  },
  {
   "cell_type": "code",
   "execution_count": null,
   "id": "ee135f0e",
   "metadata": {},
   "outputs": [],
   "source": [
    "def disp(img,r):\n",
    "    img = cv2.line(img, (0,0), (0,300), (255,0,0), 5)\n",
    "    img = cv2.line(img, (0,0), (300,0), (255,0,0), 5)\n",
    "    img = cv2.line(img, (0,300), (300,300), (255,0,0), 5)\n",
    "    img = cv2.line(img, (300,0), (300,300), (255,0,0), 5)\n",
    "    img = cv2.line(img, (0,150), (300,150), (255,0,0), 5)\n",
    "    img = cv2.line(img, (150,0), (150,300), (255,0,0), 5)\n",
    "    img = #Add text to image topleft corner\n",
    "    return img"
   ]
  },
  {
   "cell_type": "code",
   "execution_count": null,
   "id": "e6e61a5d",
   "metadata": {},
   "outputs": [],
   "source": [
    "final_img = disp(pt_img,r)\n",
    "plt.imshow(final_img[:,:,::-1])"
   ]
  },
  {
   "cell_type": "markdown",
   "id": "63fa3982",
   "metadata": {},
   "source": [
    "Combining into a single function"
   ]
  },
  {
   "cell_type": "code",
   "execution_count": null,
   "id": "3b5e4fb8",
   "metadata": {},
   "outputs": [],
   "source": [
    "def final(img):\n",
    "    try:\n",
    "        pt_img = prespective_transform(img)\n",
    "        hsv_img = conv_hsv(pt_img)\n",
    "        mask = thresh(hsv_img)\n",
    "        cX,cY = centre_pt(mask)\n",
    "        r = find_region(cX,cY)\n",
    "        final_img = disp(pt_img,r)\n",
    "    except:\n",
    "        return None , False\n",
    "    return final_img, True"
   ]
  },
  {
   "cell_type": "code",
   "execution_count": null,
   "id": "13945ba5",
   "metadata": {},
   "outputs": [],
   "source": [
    "img = cv2.imread(r'data/vid_img/frame55.jpg')\n",
    "final_img, ret = final(img)\n",
    "plt.imshow(final_img[:,:,::-1])"
   ]
  },
  {
   "cell_type": "markdown",
   "id": "c6637539",
   "metadata": {},
   "source": [
    "Testing on video"
   ]
  },
  {
   "cell_type": "code",
   "execution_count": null,
   "id": "eda172ee",
   "metadata": {},
   "outputs": [],
   "source": [
    "cap = cv2.VideoCapture(r\"C:\\Users\\Vasumathi T\\Downloads\\Input (online-video-cutter.com).mp4\")\n",
    "while(cap.isOpened()):\n",
    "    ret, frame = cap.read()\n",
    "    frame, ret2 = final(frame)\n",
    "    if ret2==False:\n",
    "        continue\n",
    "    elif ret == True and ret2==True:\n",
    "        cv2.imshow('Frame',frame)\n",
    "        cv2.waitKey(10)\n",
    "    else:\n",
    "        break\n",
    "cv2.destroyAllWindows()\n",
    "cap.release()"
   ]
  },
  {
   "cell_type": "code",
   "execution_count": null,
   "id": "bac582ee",
   "metadata": {},
   "outputs": [],
   "source": []
  }
 ],
 "metadata": {
  "kernelspec": {
   "display_name": "Python 3 (ipykernel)",
   "language": "python",
   "name": "python3"
  },
  "language_info": {
   "codemirror_mode": {
    "name": "ipython",
    "version": 3
   },
   "file_extension": ".py",
   "mimetype": "text/x-python",
   "name": "python",
   "nbconvert_exporter": "python",
   "pygments_lexer": "ipython3",
   "version": "3.9.12"
  }
 },
 "nbformat": 4,
 "nbformat_minor": 5
}
